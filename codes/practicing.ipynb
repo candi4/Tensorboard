{
 "cells": [
  {
   "cell_type": "code",
   "execution_count": 1,
   "metadata": {},
   "outputs": [],
   "source": [
    "from tensorboard.backend.event_processing import event_accumulator\n",
    "ea = event_accumulator.EventAccumulator(\"events.out.tfevents.1725047881.hojun-Z370M-D3H.5142.0\")"
   ]
  },
  {
   "cell_type": "code",
   "execution_count": 2,
   "metadata": {},
   "outputs": [
    {
     "data": {
      "text/plain": [
       "<tensorboard.backend.event_processing.event_accumulator.EventAccumulator at 0x7ff727214d30>"
      ]
     },
     "execution_count": 2,
     "metadata": {},
     "output_type": "execute_result"
    }
   ],
   "source": [
    "ea.Reload() # loads events from file"
   ]
  },
  {
   "cell_type": "code",
   "execution_count": 3,
   "metadata": {},
   "outputs": [
    {
     "data": {
      "text/plain": [
       "{'images': [],\n",
       " 'audio': [],\n",
       " 'histograms': [],\n",
       " 'scalars': ['reward/dead',\n",
       "  'reward/direction',\n",
       "  'reward/progress',\n",
       "  'reward/safe',\n",
       "  'reward/time',\n",
       "  'reward/total',\n",
       "  'rollout/ep_len_mean',\n",
       "  'rollout/ep_rew_mean',\n",
       "  'time/fps',\n",
       "  'train/approx_kl',\n",
       "  'train/clip_fraction',\n",
       "  'train/clip_range',\n",
       "  'train/entropy_loss',\n",
       "  'train/explained_variance',\n",
       "  'train/learning_rate',\n",
       "  'train/loss',\n",
       "  'train/policy_gradient_loss',\n",
       "  'train/value_loss'],\n",
       " 'distributions': [],\n",
       " 'tensors': [],\n",
       " 'graph': False,\n",
       " 'meta_graph': False,\n",
       " 'run_metadata': []}"
      ]
     },
     "execution_count": 3,
     "metadata": {},
     "output_type": "execute_result"
    }
   ],
   "source": [
    "ea.Tags()"
   ]
  },
  {
   "cell_type": "code",
   "execution_count": 4,
   "metadata": {},
   "outputs": [],
   "source": [
    "reward_direction = ea.Scalars('reward/direction')"
   ]
  },
  {
   "cell_type": "code",
   "execution_count": 5,
   "metadata": {},
   "outputs": [
    {
     "name": "stdout",
     "output_type": "stream",
     "text": [
      "ScalarEvent(wall_time=1725048031.0918703, step=2048, value=4721.1884765625)\n",
      "['__annotations__', '__class__', '__dataclass_fields__', '__dataclass_params__', '__delattr__', '__dict__', '__dir__', '__doc__', '__eq__', '__format__', '__ge__', '__getattribute__', '__gt__', '__hash__', '__init__', '__init_subclass__', '__le__', '__lt__', '__module__', '__ne__', '__new__', '__reduce__', '__reduce_ex__', '__repr__', '__setattr__', '__sizeof__', '__str__', '__subclasshook__', '__weakref__', 'step', 'value', 'wall_time']\n",
      "2048\n",
      "4721.1884765625\n",
      "1725048031.0918703\n"
     ]
    }
   ],
   "source": [
    "scalar = reward_direction[0]\n",
    "print(scalar)\n",
    "print(dir(scalar))\n",
    "print(scalar.step)\n",
    "print(scalar.value)\n",
    "print(scalar.wall_time)"
   ]
  },
  {
   "cell_type": "code",
   "execution_count": null,
   "metadata": {},
   "outputs": [],
   "source": []
  }
 ],
 "metadata": {
  "kernelspec": {
   "display_name": "tensorboard",
   "language": "python",
   "name": "python3"
  },
  "language_info": {
   "codemirror_mode": {
    "name": "ipython",
    "version": 3
   },
   "file_extension": ".py",
   "mimetype": "text/x-python",
   "name": "python",
   "nbconvert_exporter": "python",
   "pygments_lexer": "ipython3",
   "version": "3.8.19"
  },
  "orig_nbformat": 4
 },
 "nbformat": 4,
 "nbformat_minor": 2
}
